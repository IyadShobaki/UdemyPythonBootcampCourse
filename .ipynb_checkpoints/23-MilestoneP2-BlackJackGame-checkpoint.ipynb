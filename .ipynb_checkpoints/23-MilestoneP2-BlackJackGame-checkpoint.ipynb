{
 "cells": [
  {
   "cell_type": "code",
   "execution_count": 1,
   "metadata": {},
   "outputs": [],
   "source": [
    "import random\n",
    "\n",
    "suits = ('Hearts','Diamonds','Spades','Clubs')\n",
    "ranks = ('Two','Three','Four','Five','Six','Seven','Eight','Nine','Ten','Jack','Queen','King','Ace')\n",
    "values = {'Two':2,'Three':3,'Four':4,'Five':5,'Six':6,'Seven':7,'Eight':8,'Nine':9,'Ten':10,'Jack':10,'Queen':10,'King':10,'Ace':11}\n",
    "\n",
    "playing = True"
   ]
  },
  {
   "cell_type": "code",
   "execution_count": 2,
   "metadata": {},
   "outputs": [],
   "source": [
    "class Card():\n",
    "    def __init__(self,suit, rank):\n",
    "        \n",
    "        self.suit = suit\n",
    "        self.rank = rank\n",
    "        \n",
    "    \n",
    "    def __str__(self):\n",
    "        return self.suit + \" of \" + self.rank"
   ]
  },
  {
   "cell_type": "code",
   "execution_count": 3,
   "metadata": {},
   "outputs": [],
   "source": [
    "class Deck():\n",
    "    def __init__(self):\n",
    "        self.deck = [] # start with an empty list\n",
    "        for suit in suits:\n",
    "            for rank in ranks:\n",
    "                self.deck.append(Card(suit,rank))\n",
    "    \n",
    "    def __str__(self):\n",
    "        deck_comp = ''\n",
    "        for card in self.deck:\n",
    "            deck_comp += '\\n' + card.__str__()\n",
    "        return \"The deck has \"+ deck_comp\n",
    "    \n",
    "    def shuffle(self):\n",
    "        random.shuffle(self.deck)\n",
    "    \n",
    "    def deal(self):\n",
    "        single_card = self.deck.pop()\n",
    "        return single_card"
   ]
  },
  {
   "cell_type": "code",
   "execution_count": 4,
   "metadata": {},
   "outputs": [
    {
     "name": "stdout",
     "output_type": "stream",
     "text": [
      "The deck has \n",
      "Hearts of Four\n",
      "Clubs of Three\n",
      "Hearts of Jack\n",
      "Spades of Ace\n",
      "Clubs of Ace\n",
      "Spades of Two\n",
      "Hearts of Two\n",
      "Diamonds of Queen\n",
      "Hearts of Ace\n",
      "Spades of Nine\n",
      "Hearts of Nine\n",
      "Spades of Four\n",
      "Clubs of Eight\n",
      "Diamonds of Ace\n",
      "Hearts of Eight\n",
      "Clubs of Queen\n",
      "Diamonds of Nine\n",
      "Clubs of Seven\n",
      "Spades of Five\n",
      "Diamonds of Six\n",
      "Spades of Queen\n",
      "Diamonds of Eight\n",
      "Clubs of King\n",
      "Hearts of Six\n",
      "Spades of Ten\n",
      "Hearts of Five\n",
      "Diamonds of Two\n",
      "Diamonds of Seven\n",
      "Clubs of Jack\n",
      "Hearts of King\n",
      "Spades of Six\n",
      "Diamonds of Jack\n",
      "Clubs of Ten\n",
      "Diamonds of King\n",
      "Diamonds of Ten\n",
      "Hearts of Three\n",
      "Clubs of Nine\n",
      "Clubs of Two\n",
      "Hearts of Queen\n",
      "Diamonds of Five\n",
      "Hearts of Ten\n",
      "Spades of Jack\n",
      "Clubs of Six\n",
      "Hearts of Seven\n",
      "Spades of King\n",
      "Diamonds of Four\n",
      "Clubs of Five\n",
      "Clubs of Four\n",
      "Spades of Eight\n",
      "Diamonds of Three\n",
      "Spades of Seven\n",
      "Spades of Three\n"
     ]
    }
   ],
   "source": [
    "test_deck1 = Deck()\n",
    "test_deck1.shuffle()\n",
    "print(test_deck1)"
   ]
  },
  {
   "cell_type": "code",
   "execution_count": 5,
   "metadata": {},
   "outputs": [],
   "source": [
    "class Hand():\n",
    "    def __init__(self):\n",
    "        self.cards = [] #start with an empty list as we did in the Deck class\n",
    "        self.value = 0 #start with zero value\n",
    "        self.aces = 0\n",
    "    \n",
    "    def add_card(self,card):\n",
    "        self.cards.append(card)\n",
    "        self.value += values[card.rank]\n",
    "        \n",
    "        #track aces\n",
    "        if card.rank == 'Ace':\n",
    "            self.aces +=1\n",
    "    def adjust_for_ace(self):\n",
    "        \n",
    "        while self.value > 21 and self.aces: # and self.aces > 0 same thing\n",
    "            # if total value > 21 an I still have an ace\n",
    "            #then change my ace to be a 1 instead of 11\n",
    "            self.value -= 10\n",
    "            self.aces -= 1"
   ]
  },
  {
   "cell_type": "code",
   "execution_count": 6,
   "metadata": {},
   "outputs": [
    {
     "name": "stdout",
     "output_type": "stream",
     "text": [
      "Clubs of Seven\n",
      "7\n"
     ]
    }
   ],
   "source": [
    "test_deck = Deck()\n",
    "test_deck.shuffle()\n",
    "\n",
    "#player\n",
    "test_player = Hand()\n",
    "#Deal 1 card from the deck CARD(suit,rank)\n",
    "pulled_card = test_deck.deal()\n",
    "print(pulled_card)\n",
    "test_player.add_card(pulled_card)\n",
    "print(test_player.value)"
   ]
  },
  {
   "cell_type": "code",
   "execution_count": 7,
   "metadata": {},
   "outputs": [],
   "source": [
    "test_player.add_card(test_deck.deal())"
   ]
  },
  {
   "cell_type": "code",
   "execution_count": 8,
   "metadata": {},
   "outputs": [
    {
     "data": {
      "text/plain": [
       "11"
      ]
     },
     "execution_count": 8,
     "metadata": {},
     "output_type": "execute_result"
    }
   ],
   "source": [
    "test_player.value"
   ]
  },
  {
   "cell_type": "code",
   "execution_count": 9,
   "metadata": {},
   "outputs": [],
   "source": [
    "class Chips():\n",
    "    def __init__(self,total =100):\n",
    "        self.total = total\n",
    "        self.bet = 0\n",
    "    \n",
    "    def win_bet(self):\n",
    "        self.total += self.bet\n",
    "        \n",
    "    def lose_bet(self):\n",
    "        self.total -= self.bet"
   ]
  },
  {
   "cell_type": "code",
   "execution_count": 10,
   "metadata": {},
   "outputs": [],
   "source": [
    "def take_bet(chips):\n",
    "    while True:\n",
    "        try:\n",
    "            chips.bet = int(input(\"How many chips would you like to bet? \"))\n",
    "        except:\n",
    "            print(\"Sorry, please provide an integer\")\n",
    "        else:\n",
    "            if chips.bet > chips.total:\n",
    "                print('Sorry, you do not have enough chips! you have: {}'.format(chips.total))\n",
    "            else:\n",
    "                break\n",
    "    "
   ]
  },
  {
   "cell_type": "code",
   "execution_count": 11,
   "metadata": {},
   "outputs": [],
   "source": [
    "def hit(deck,hand):\n",
    "    single_card = deck.deal()\n",
    "    hand.add_card(single_card)\n",
    "    hand.adjust_for_ace()"
   ]
  },
  {
   "cell_type": "code",
   "execution_count": 12,
   "metadata": {},
   "outputs": [],
   "source": [
    "def hit_or_stand(deck,hand):\n",
    "    global playing\n",
    "    while True:\n",
    "        x = input('Hit or Stand? Enter h or s ')\n",
    "        if x[0].lower() == 'h':\n",
    "            hit(deck,hand)\n",
    "        elif x[0].lower() =='s':\n",
    "            print(\"Player Stands Dealer's Turn\")\n",
    "            playing = False\n",
    "        else:\n",
    "            print(\"Sorry, I did not understand that, Please enter h or s only!\")\n",
    "            continue\n",
    "            \n",
    "        break"
   ]
  },
  {
   "cell_type": "code",
   "execution_count": 13,
   "metadata": {},
   "outputs": [],
   "source": [
    "def show_some(player,dealer):\n",
    "    print('\\nDEALERS HAND:')\n",
    "    print('one card hidden!')\n",
    "    print(dealer.cards[1])\n",
    "    print('\\n')\n",
    "    print('PLAYERS HAND:')\n",
    "    for card in player.cards:\n",
    "        print(card)\n",
    "\n",
    "def show_all(player,dealer):\n",
    "    \n",
    "    print('\\nDEALERS HAND:')\n",
    "    for card in dealer.cards:\n",
    "        print(card)\n",
    "    print('\\n')\n",
    "    print('PLAYERS HAND:')\n",
    "    for card in player.cards:\n",
    "        print(card)"
   ]
  },
  {
   "cell_type": "code",
   "execution_count": 14,
   "metadata": {},
   "outputs": [],
   "source": [
    "def player_busts(player,dealer,chips):\n",
    "    print(\"BUST PLAYER!\")\n",
    "    chips.lose_bet()\n",
    "def player_wins(player,dealer,chips):\n",
    "    print(\"PLAYER WINS!\")\n",
    "    chips.win_bet()\n",
    "def dealer_busts(player,dealer,chips):\n",
    "    print(\"PLAYER WINS! DEALER BUSTED!\")\n",
    "    chips.win_bet()\n",
    "def dealer_wins(player,dealer,chips):\n",
    "    print(\"DEALER WINS!\")\n",
    "    chips.lose_bet()\n",
    "def push(player,dealer):\n",
    "    print('Dealer and Player tie! PUSH')"
   ]
  },
  {
   "cell_type": "code",
   "execution_count": null,
   "metadata": {},
   "outputs": [
    {
     "name": "stdout",
     "output_type": "stream",
     "text": [
      "WELCOME TO BLACKJACK\n",
      "How many chips would you like to bet? 100\n",
      "\n",
      "DEALERS HAND:\n",
      "one card hidden!\n",
      "Spades of Jack\n",
      "\n",
      "\n",
      "PLAYERS HAND:\n",
      "Hearts of Two\n",
      "Hearts of Four\n",
      "Hit or Stand? Enter h or s h\n",
      "\n",
      "DEALERS HAND:\n",
      "one card hidden!\n",
      "Spades of Jack\n",
      "\n",
      "\n",
      "PLAYERS HAND:\n",
      "Hearts of Two\n",
      "Hearts of Four\n",
      "Spades of Queen\n",
      "Hit or Stand? Enter h or s ss\n",
      "Player Stands Dealer's Turn\n",
      "\n",
      "DEALERS HAND:\n",
      "one card hidden!\n",
      "Spades of Jack\n",
      "\n",
      "\n",
      "PLAYERS HAND:\n",
      "Hearts of Two\n",
      "Hearts of Four\n",
      "Spades of Queen\n",
      "\n",
      "DEALERS HAND:\n",
      "Spades of Three\n",
      "Spades of Jack\n",
      "Hearts of Seven\n",
      "\n",
      "\n",
      "PLAYERS HAND:\n",
      "Hearts of Two\n",
      "Hearts of Four\n",
      "Spades of Queen\n",
      "DEALER WINS!\n",
      "\n",
      " Player total chips are at: 0\n"
     ]
    }
   ],
   "source": [
    "while True:\n",
    "    print(\"WELCOME TO BLACKJACK\")\n",
    "    \n",
    "    deck = Deck()\n",
    "    deck.shuffle()\n",
    "    \n",
    "    \n",
    "    player_hand = Hand()\n",
    "    player_hand.add_card(deck.deal())\n",
    "    player_hand.add_card(deck.deal())\n",
    "    \n",
    "    \n",
    "    dealer_hand = Hand()\n",
    "    dealer_hand.add_card(deck.deal())\n",
    "    dealer_hand.add_card(deck.deal())\n",
    "    \n",
    "    player_chips = Chips()\n",
    "    \n",
    "    take_bet(player_chips)\n",
    "    \n",
    "    show_some(player_hand, dealer_hand)\n",
    "    \n",
    "    while playing:\n",
    "        hit_or_stand(deck,player_hand)\n",
    "        \n",
    "        show_some(player_hand, dealer_hand)\n",
    "        \n",
    "        if player_hand.value > 21:\n",
    "            player_busts(player_hand,dealer_hand,player_chips)\n",
    "            \n",
    "            break\n",
    "    if player_hand.value <= 21:\n",
    "        while dealer_hand.value < player_hand.value:  # < 17\n",
    "            hit(deck,dealer_hand)\n",
    "            \n",
    "        show_all(player_hand,dealer_hand)\n",
    "        \n",
    "        if dealer_hand.value > 21:\n",
    "            dealer_busts(player_hand,dealer_hand,player_chips)\n",
    "        elif dealer_hand.value > player_hand.value:\n",
    "            dealer_wins(player_hand,dealer_hand,player_chips)\n",
    "        elif dealer_hand.value < player_hand.value:\n",
    "            player_wins(player_hand,dealer_hand,player_chips)\n",
    "        else:\n",
    "            push(player_hand,dealer_hand)\n",
    "            \n",
    "    print('\\n Player total chips are at: {}'.format(player_chips.total))\n",
    "    \n",
    "    new_game = input(\"Would you like to play another hand? y/n\")\n",
    "    \n",
    "    if new_game[0].lower() == 'y':\n",
    "        playing = True\n",
    "        continue\n",
    "    else:\n",
    "        print('Thank you for playing!')\n",
    "        break\n",
    "    \n",
    "    \n",
    "        "
   ]
  },
  {
   "cell_type": "code",
   "execution_count": null,
   "metadata": {},
   "outputs": [],
   "source": []
  },
  {
   "cell_type": "code",
   "execution_count": null,
   "metadata": {},
   "outputs": [],
   "source": []
  }
 ],
 "metadata": {
  "kernelspec": {
   "display_name": "Python 3",
   "language": "python",
   "name": "python3"
  },
  "language_info": {
   "codemirror_mode": {
    "name": "ipython",
    "version": 3
   },
   "file_extension": ".py",
   "mimetype": "text/x-python",
   "name": "python",
   "nbconvert_exporter": "python",
   "pygments_lexer": "ipython3",
   "version": "3.7.3"
  }
 },
 "nbformat": 4,
 "nbformat_minor": 2
}
