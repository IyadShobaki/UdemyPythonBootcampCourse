{
 "cells": [
  {
   "cell_type": "code",
   "execution_count": 7,
   "metadata": {},
   "outputs": [],
   "source": [
    "import winsound, time, os, platform"
   ]
  },
  {
   "cell_type": "code",
   "execution_count": 8,
   "metadata": {},
   "outputs": [],
   "source": [
    "\n",
    "def sound():\n",
    "    for i in range(2):\n",
    "        for j in range(9):\n",
    "            winsound.MessageBeep(-1)"
   ]
  },
  {
   "cell_type": "code",
   "execution_count": 9,
   "metadata": {},
   "outputs": [],
   "source": [
    "def alarm(n):\n",
    "    print()\n",
    "    print(\"Wait Time: \",n,\" seconds.\")\n",
    "    time.sleep(n)"
   ]
  },
  {
   "cell_type": "code",
   "execution_count": 10,
   "metadata": {},
   "outputs": [],
   "source": [
    "def input_destinations(user_input):\n",
    "    if user_input == '1':\n",
    "        user_input = int(input(\"Enter the desired hours: \"))\n",
    "\n",
    "        wait_time = (user_input * 60) * 60\n",
    "        alarm(wait_time)\n",
    "\n",
    "    elif user_input == '2':\n",
    "        user_input = int(input(\"Enter the desired minutes: \"))\n",
    "\n",
    "        wait_time = user_input * 60\n",
    "        alarm(wait_time)\n",
    "\n",
    "    elif user_input == '3':\n",
    "        user_input = int(input(\"Enter the desired seconds: \"))\n",
    "        wait_time = user_input\n",
    "        alarm(wait_time)\n",
    "    elif user_input == '4':\n",
    "        hours = int(input(\"Hours: \"))\n",
    "        minutes = int(input(\"Minutes: \"))\n",
    "        seconds = int(input(\"Seconds: \"))\n",
    "\n",
    "        wait_time = (hours*60)*60 + (minutes * 60 )+ seconds\n",
    "        print(wait_time)\n",
    "        alarm(wait_time)\n",
    "\n",
    "    else:\n",
    "        try:\n",
    "            os.system('cls')\n",
    "            main()\n",
    "        except:\n",
    "            os.system('clear')\n",
    "            main()"
   ]
  },
  {
   "cell_type": "code",
   "execution_count": 11,
   "metadata": {},
   "outputs": [],
   "source": [
    "\n",
    "def main():\n",
    "    print(\"What unit of time do you want to wait?\\n (1) Hours\\n (2) Minutes\\n (3) Seconds\\n (4) Combination\")\n",
    "    main_input = input(\": \")\n",
    "\n",
    "    input_destinations(main_input)\n"
   ]
  },
  {
   "cell_type": "code",
   "execution_count": 12,
   "metadata": {},
   "outputs": [
    {
     "name": "stdout",
     "output_type": "stream",
     "text": [
      "What unit of time do you want to wait?\n",
      " (1) Hours\n",
      " (2) Minutes\n",
      " (3) Seconds\n",
      " (4) Combination\n",
      ": 3\n",
      "Enter the desired seconds: 5\n",
      "\n",
      "Wait Time:  5  seconds.\n"
     ]
    }
   ],
   "source": [
    "main()"
   ]
  }
 ],
 "metadata": {
  "kernelspec": {
   "display_name": "Python 3",
   "language": "python",
   "name": "python3"
  },
  "language_info": {
   "codemirror_mode": {
    "name": "ipython",
    "version": 3
   },
   "file_extension": ".py",
   "mimetype": "text/x-python",
   "name": "python",
   "nbconvert_exporter": "python",
   "pygments_lexer": "ipython3",
   "version": "3.7.3"
  }
 },
 "nbformat": 4,
 "nbformat_minor": 2
}
