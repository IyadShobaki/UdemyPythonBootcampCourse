{
 "cells": [
  {
   "cell_type": "code",
   "execution_count": 1,
   "metadata": {},
   "outputs": [],
   "source": [
    "from IPython.display import clear_output\n",
    "def displayBoard(board):\n",
    "    clear_output()\n",
    "    print(board[7]+'|'+board[8]+'|'+board[9])\n",
    "    print('-|-|-')\n",
    "    print(board[4]+'|'+board[5]+'|'+board[6])\n",
    "    print('-|-|-')\n",
    "    print(board[1]+'|'+board[2]+'|'+board[3])"
   ]
  },
  {
   "cell_type": "code",
   "execution_count": 2,
   "metadata": {},
   "outputs": [],
   "source": [
    "testBoard = ['#','X','O','X','O','X','O','X','O','X']"
   ]
  },
  {
   "cell_type": "code",
   "execution_count": 3,
   "metadata": {},
   "outputs": [
    {
     "name": "stdout",
     "output_type": "stream",
     "text": [
      "X|O|X\n",
      "-|-|-\n",
      "O|X|O\n",
      "-|-|-\n",
      "X|O|X\n"
     ]
    }
   ],
   "source": [
    "displayBoard(testBoard)"
   ]
  },
  {
   "cell_type": "code",
   "execution_count": 4,
   "metadata": {},
   "outputs": [
    {
     "name": "stdout",
     "output_type": "stream",
     "text": [
      " | | \n",
      "-|-|-\n",
      " | | \n",
      "-|-|-\n",
      " | | \n"
     ]
    }
   ],
   "source": [
    "emptyBoard = [' ']*10\n",
    "displayBoard(emptyBoard)"
   ]
  },
  {
   "cell_type": "code",
   "execution_count": 5,
   "metadata": {},
   "outputs": [],
   "source": [
    "def playerInput():\n",
    "    '''\n",
    "    the output will be set('X','O') for example\n",
    "    Output = (player 1 marker, player 2 marker)\n",
    "    '''\n",
    "    marker = ''\n",
    "    #Keep asking the player 1 to choose x or o\n",
    "    #while not (marker == 'X' or marker == 'O'):\n",
    "    while marker != 'X' and marker != 'O':\n",
    "        marker = input('Player 1: choose X or O: ').upper()\n",
    "    #Assign player 2, the opposite marker\n",
    "   # player1 = marker\n",
    "   # if player1 == 'X':\n",
    "   #     player2 = 'O'\n",
    "   # else:\n",
    "   #     player2 = 'X'\n",
    "   # return (player1,player2)\n",
    "    if marker == 'X': \n",
    "        return ('X','O')\n",
    "    else:\n",
    "        return ('O','X')"
   ]
  },
  {
   "cell_type": "code",
   "execution_count": 6,
   "metadata": {},
   "outputs": [
    {
     "name": "stdout",
     "output_type": "stream",
     "text": [
      "Player 1: choose X or O: x\n"
     ]
    }
   ],
   "source": [
    "player1Marker, player2Marker = playerInput()"
   ]
  },
  {
   "cell_type": "code",
   "execution_count": 7,
   "metadata": {},
   "outputs": [
    {
     "data": {
      "text/plain": [
       "'X'"
      ]
     },
     "execution_count": 7,
     "metadata": {},
     "output_type": "execute_result"
    }
   ],
   "source": [
    "player1Marker"
   ]
  },
  {
   "cell_type": "code",
   "execution_count": 8,
   "metadata": {},
   "outputs": [
    {
     "data": {
      "text/plain": [
       "'O'"
      ]
     },
     "execution_count": 8,
     "metadata": {},
     "output_type": "execute_result"
    }
   ],
   "source": [
    "player2Marker"
   ]
  },
  {
   "cell_type": "code",
   "execution_count": 9,
   "metadata": {},
   "outputs": [],
   "source": [
    "def placeMarker(board,marker,position):\n",
    "    board[position] = marker"
   ]
  },
  {
   "cell_type": "code",
   "execution_count": 10,
   "metadata": {},
   "outputs": [
    {
     "name": "stdout",
     "output_type": "stream",
     "text": [
      "X|$|X\n",
      "-|-|-\n",
      "O|X|O\n",
      "-|-|-\n",
      "X|O|X\n"
     ]
    }
   ],
   "source": [
    "placeMarker(testBoard,'$',8)\n",
    "displayBoard(testBoard)"
   ]
  },
  {
   "cell_type": "code",
   "execution_count": 11,
   "metadata": {},
   "outputs": [],
   "source": [
    "def winCheck(board, mark):\n",
    "    # Win TIC TAC TOE?\n",
    "    #Check all rows if they all share the same marker\n",
    "    return ((board[7] == mark and board[8] == mark and board[9] == mark) or\n",
    "    (board[4] == mark and board[5] == mark and board[6] == mark) or\n",
    "    (board[1] == mark and board[2] == mark and board[3] == mark) or\n",
    "    \n",
    "    (board[7] == mark and board[4] == mark and board[1] == mark) or\n",
    "    (board[8] == mark and board[5] == mark and board[2] == mark) or\n",
    "    (board[9] == mark and board[6] == mark and board[3] == mark) or\n",
    "    \n",
    "    (board[7] == mark and board[5] == mark and board[3] == mark) or\n",
    "    (board[9] == mark and board[5] == mark and board[1] == mark)) \n",
    "    #(board[4] == board[5] == board[6] == mark)\n",
    "    #Check all columns\n",
    "    #2 diagonals check"
   ]
  },
  {
   "cell_type": "code",
   "execution_count": 12,
   "metadata": {},
   "outputs": [
    {
     "name": "stdout",
     "output_type": "stream",
     "text": [
      "X|$|X\n",
      "-|-|-\n",
      "O|X|O\n",
      "-|-|-\n",
      "X|O|X\n"
     ]
    },
    {
     "data": {
      "text/plain": [
       "True"
      ]
     },
     "execution_count": 12,
     "metadata": {},
     "output_type": "execute_result"
    }
   ],
   "source": [
    "displayBoard(testBoard)\n",
    "winCheck(testBoard,'X')"
   ]
  },
  {
   "cell_type": "code",
   "execution_count": 13,
   "metadata": {},
   "outputs": [],
   "source": [
    "import random\n",
    "def chooseFirst():\n",
    "    flip = random.randint(0,1)\n",
    "    if flip == 0:\n",
    "        return 'Player 1'\n",
    "    else:\n",
    "        return 'Player 2'"
   ]
  },
  {
   "cell_type": "code",
   "execution_count": 14,
   "metadata": {},
   "outputs": [],
   "source": [
    "def spaceCheck(board, position):\n",
    "    return board[position] == ' '"
   ]
  },
  {
   "cell_type": "code",
   "execution_count": 15,
   "metadata": {},
   "outputs": [],
   "source": [
    "def fullBoardCheck(board):\n",
    "    for i in range(1,10):\n",
    "        if spaceCheck(board,i):\n",
    "            return False\n",
    "    # if Board is full return True\n",
    "    return True"
   ]
  },
  {
   "cell_type": "code",
   "execution_count": 16,
   "metadata": {},
   "outputs": [],
   "source": [
    "def playerChoice(board):\n",
    "    position = 0\n",
    "    while position not in [1,2,3,4,5,6,7,8,9] or not spaceCheck(board,position):\n",
    "        position = int(input('Choose a position: (1 - 9)'))\n",
    "    return position"
   ]
  },
  {
   "cell_type": "code",
   "execution_count": 17,
   "metadata": {},
   "outputs": [],
   "source": [
    "def replay():\n",
    "    choice = input(\"Play again? Enter Yes or No\")\n",
    "    return choice == 'Yes'"
   ]
  },
  {
   "cell_type": "code",
   "execution_count": null,
   "metadata": {},
   "outputs": [
    {
     "name": "stdout",
     "output_type": "stream",
     "text": [
      " | | \n",
      "-|-|-\n",
      " |O| \n",
      "-|-|-\n",
      "X|O| \n"
     ]
    }
   ],
   "source": [
    "# While loop to keep running the game\n",
    "print('Welcome to TIC TAC TOE')\n",
    "while True:\n",
    "    #Play the game\n",
    "    \n",
    "    ## Set everything up (board, whos first, choose markers)\n",
    "    theBoard = [' ']*10\n",
    "    playerOneMarker, playerTwoMarker = playerInput()\n",
    "    turn = chooseFirst()\n",
    "    print (turn + ' will go first')\n",
    "    playGame = input('Ready to play? y or n')\n",
    "    \n",
    "    if playGame == 'y':\n",
    "        gameOn = True\n",
    "    else:\n",
    "        gameOn = False\n",
    "    \n",
    "    ## Game play\n",
    "    while gameOn:\n",
    "        ### Player one turn\n",
    "        if turn == 'Player 1':\n",
    "            #Show the board\n",
    "            displayBoard(theBoard)\n",
    "            #Choose a position\n",
    "            position  = playerChoice(theBoard)\n",
    "            #Place the marker on the position\n",
    "            placeMarker(theBoard, playerOneMarker, position)\n",
    "            #Check if they won\n",
    "            if winCheck(theBoard,playerOneMarker):\n",
    "                displayBoard(theBoard)\n",
    "                print('Player 1 has won!!')\n",
    "                gameOn = False\n",
    "            else:\n",
    "                if fullBoardCheck(theBoard):\n",
    "                    displayBoard(theBoard)\n",
    "                    print('Tie game!')\n",
    "                    gameOn = False # instead of break\n",
    "                else:\n",
    "                    turn = 'Player 2'\n",
    "            # or check if there is a tie\n",
    "            \n",
    "            #No tie and no win? then next player's turn\n",
    "    \n",
    "     ### Player two turn\n",
    "        else:\n",
    "        \n",
    "            displayBoard(theBoard)\n",
    "           #Choose a position\n",
    "            position  = playerChoice(theBoard)\n",
    "           #Place the marker on the position\n",
    "            placeMarker(theBoard, playerTwoMarker, position)\n",
    "           #Check if they won\n",
    "            if winCheck(theBoard,playerTwoMarker):\n",
    "                displayBoard(theBoard)\n",
    "                print('Player 2 has won!!')\n",
    "                gameOn = False\n",
    "            else:\n",
    "                if fullBoardCheck(theBoard):\n",
    "                    displayBoard(theBoard)\n",
    "                    print('Tie game!')\n",
    "                    gameOn = False # instead of break\n",
    "                else:\n",
    "                    turn = 'Player 1'\n",
    "   \n",
    "    \n",
    "    if not replay():\n",
    "        break\n",
    "\n",
    "# Break out of the while loop on replay()"
   ]
  },
  {
   "cell_type": "code",
   "execution_count": null,
   "metadata": {},
   "outputs": [],
   "source": []
  }
 ],
 "metadata": {
  "kernelspec": {
   "display_name": "Python 3",
   "language": "python",
   "name": "python3"
  },
  "language_info": {
   "codemirror_mode": {
    "name": "ipython",
    "version": 3
   },
   "file_extension": ".py",
   "mimetype": "text/x-python",
   "name": "python",
   "nbconvert_exporter": "python",
   "pygments_lexer": "ipython3",
   "version": "3.7.3"
  }
 },
 "nbformat": 4,
 "nbformat_minor": 2
}
