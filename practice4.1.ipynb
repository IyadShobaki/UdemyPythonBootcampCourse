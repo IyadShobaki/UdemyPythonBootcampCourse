{
 "cells": [
  {
   "cell_type": "code",
   "execution_count": 1,
   "metadata": {},
   "outputs": [],
   "source": [
    "def paperDoll(text):\n",
    "    result = ''\n",
    "    for char in text:\n",
    "        result += char*3\n",
    "    return result"
   ]
  },
  {
   "cell_type": "code",
   "execution_count": 2,
   "metadata": {},
   "outputs": [],
   "source": [
    "paperDoll('Hello')"
   ]
  },
  {
   "cell_type": "code",
   "execution_count": 3,
   "metadata": {},
   "outputs": [],
   "source": [
    "def blackJack(a,b,c):\n",
    "    if sum((a,b,c)) <=21:\n",
    "        return sum((a,b,c))\n",
    "    elif sum((a,b,c)) <=31 and 11 in (a,b,c):\n",
    "        return sum((a,b,c)) - 10\n",
    "    else:\n",
    "        return 'BUST'"
   ]
  },
  {
   "cell_type": "code",
   "execution_count": 4,
   "metadata": {},
   "outputs": [],
   "source": [
    "blackJack(11,4,11)"
   ]
  },
  {
   "cell_type": "code",
   "execution_count": 5,
   "metadata": {},
   "outputs": [],
   "source": [
    "def summer69(nums):\n",
    "    total = 0\n",
    "    add = True\n",
    "    for n in nums:\n",
    "        while add:\n",
    "            if n != 6:\n",
    "                total += n\n",
    "                break\n",
    "            else:\n",
    "                add = False\n",
    "        while not add:\n",
    "            if n != 9:\n",
    "                break\n",
    "            else:\n",
    "                add = True\n",
    "                break\n",
    "    return total\n",
    "            \n",
    "    "
   ]
  },
  {
   "cell_type": "code",
   "execution_count": 6,
   "metadata": {},
   "outputs": [],
   "source": [
    "summer69([1,2,3,6,6,7,8,9,1,2])"
   ]
  },
  {
   "cell_type": "code",
   "execution_count": 7,
   "metadata": {},
   "outputs": [],
   "source": [
    "def sumer69(arr):\n",
    "    total = 0\n",
    "    add =True\n",
    "    for num in arr:\n",
    "        while add:\n",
    "            if num != 6:\n",
    "                total += num\n",
    "                break\n",
    "            else:\n",
    "                add = False\n",
    "        while not add:\n",
    "            if num != 9:\n",
    "                break\n",
    "            else:\n",
    "                add = True\n",
    "                break\n",
    "    return total"
   ]
  },
  {
   "cell_type": "code",
   "execution_count": 8,
   "metadata": {},
   "outputs": [],
   "source": [
    "sumer69([1,1,1,6,8,8,8,9,1,1,6,9,1,1])"
   ]
  },
  {
   "cell_type": "code",
   "execution_count": 9,
   "metadata": {},
   "outputs": [],
   "source": [
    "import random \n",
    "num = random.randint(1,100)"
   ]
  },
  {
   "cell_type": "code",
   "execution_count": 10,
   "metadata": {},
   "outputs": [],
   "source": [
    "guesses = [0]"
   ]
  },
  {
   "cell_type": "code",
   "execution_count": 11,
   "metadata": {},
   "outputs": [
    {
     "name": "stdout",
     "output_type": "stream",
     "text": [
      "number between 1 and 100: 1\n",
      "Cold!\n",
      "number between 1 and 100: 66\n",
      "Warmer!\n",
      "number between 1 and 100: 77\n",
      "Warmer!\n",
      "number between 1 and 100: 99\n",
      "Colder!\n",
      "number between 1 and 100: 88\n",
      "Warmer!\n",
      "number between 1 and 100: 78\n",
      "Warmer!\n",
      "number between 1 and 100: 80\n",
      "Colder!\n",
      "number between 1 and 100: 79\n",
      "Warmer!\n",
      "number between 1 and 100: 76\n",
      "Warmer!\n",
      "number between 1 and 100: 75\n",
      "Warmer!\n",
      "number between 1 and 100: 74\n",
      "Good job!, you guesses it in only 11 guesses!\n",
      "[0, 1, 66, 77, 99, 88, 78, 80, 79, 76, 75]\n"
     ]
    }
   ],
   "source": [
    "while True:\n",
    "    guess = int(input(\"number between 1 and 100: \"))\n",
    "    if guess < 1 or guess > 100:\n",
    "        print('Out of bounds! try again:')\n",
    "        continue\n",
    "    if guess  == num:\n",
    "        print(f'Good job!, you guesses it in only {len(guesses)} guesses!')\n",
    "        break\n",
    "    guesses.append(guess)\n",
    "    if guesses[-2]:\n",
    "        if abs(num - guess) < abs (num - guesses[-2]):\n",
    "            print('Warmer!')\n",
    "        else:\n",
    "            print('Colder!')\n",
    "    else:\n",
    "        if abs(num-guess) <= 10:\n",
    "            print('Warm!')\n",
    "        else:\n",
    "            print('Cold!')\n",
    "print(guesses)\n",
    "    "
   ]
  },
  {
   "cell_type": "code",
   "execution_count": 12,
   "metadata": {},
   "outputs": [
    {
     "data": {
      "text/plain": [
       "76"
      ]
     },
     "execution_count": 12,
     "metadata": {},
     "output_type": "execute_result"
    }
   ],
   "source": [
    "guesses[-2]"
   ]
  },
  {
   "cell_type": "code",
   "execution_count": 13,
   "metadata": {},
   "outputs": [
    {
     "name": "stdout",
     "output_type": "stream",
     "text": [
      "number between 1 - 100: 3\n",
      "Cold!\n",
      "number between 1 - 100: 55\n",
      "Warmer!\n",
      "number between 1 - 100: 66\n",
      "Colder!\n",
      "number between 1 - 100: 60\n",
      "Warmer!\n",
      "number between 1 - 100: 58\n",
      "Warmer!\n",
      "number between 1 - 100: 56\n",
      "Warmer!\n",
      "number between 1 - 100: 57\n",
      "Colder!\n",
      "number between 1 - 100: 54\n",
      "Warmer!\n",
      "number between 1 - 100: 53\n",
      "Warmer!\n",
      "number between 1 - 100: 52\n",
      "Warmer!\n",
      "number between 1 - 100: 45\n",
      "Colder!\n",
      "number between 1 - 100: 51\n",
      "Nice work!, Number of guesses is 12\n"
     ]
    }
   ],
   "source": [
    "import random\n",
    "num = random.randint(1,100)\n",
    "guesses = [0]\n",
    "while True:\n",
    "    guess = int(input('number between 1 - 100: '))\n",
    "    if guess  < 1 or guess > 100:\n",
    "        print('Try again')\n",
    "        continue\n",
    "    if guess == num:\n",
    "        print(f'Nice work!, Number of guesses is {len(guesses)}')\n",
    "        break\n",
    "    guesses.append(guess)\n",
    "    if guesses[-2]:\n",
    "        if abs(num - guess) < abs(num - guesses[-2]):\n",
    "            print('Warmer!')\n",
    "        else:\n",
    "            print('Colder!')\n",
    "    else:\n",
    "        if abs (num - guess) <= 10:\n",
    "            print('Warm!')\n",
    "        else:\n",
    "            print('Cold!')\n",
    "        "
   ]
  },
  {
   "cell_type": "code",
   "execution_count": 14,
   "metadata": {},
   "outputs": [
    {
     "name": "stdout",
     "output_type": "stream",
     "text": [
      "Number 1 - 100: 2\n",
      "Cold!\n",
      "Number 1 - 100: 22\n",
      "Warmer!\n",
      "Number 1 - 100: 66\n",
      "Colder!\n",
      "Number 1 - 100: 44\n",
      "Warmer!\n",
      "Number 1 - 100: 55\n",
      "Colder!\n",
      "Number 1 - 100: 33\n",
      "Warmer!\n",
      "Number 1 - 100: 22\n",
      "Warmer!\n",
      "Number 1 - 100: 10\n",
      "Colder!\n",
      "Number 1 - 100: 15\n",
      "Warmer!\n",
      "Number 1 - 100: 16\n",
      "Warmer!\n",
      "Number 1 - 100: 17\n",
      "Warmer!\n",
      "Number 1 - 100: 18\n",
      "Warmer!\n",
      "Number 1 - 100: 19\n",
      "Warmer!\n",
      "Number 1 - 100: 20\n",
      "Good!, 14 number of guesses!\n"
     ]
    }
   ],
   "source": [
    "import random\n",
    "num = random.randint(1,100)\n",
    "guesses = [0]\n",
    "while True:\n",
    "    guess = int(input('Number 1 - 100: '))\n",
    "    if guess < 1 or guess > 100:\n",
    "        print('Try again!')\n",
    "        continue\n",
    "    if guess == num:\n",
    "        print(f'Good!, {len(guesses)} number of guesses!')\n",
    "        break\n",
    "    guesses.append(guess)\n",
    "    if guesses[-2]:\n",
    "        if abs(num - guess) < abs(num - guesses[-2]):\n",
    "            print('Warmer!')\n",
    "        else:\n",
    "            print('Colder!')\n",
    "    else:\n",
    "        if abs(num - guess)<=10:\n",
    "            print('Warm!')\n",
    "        else:\n",
    "            print('Cold!')\n",
    "            "
   ]
  },
  {
   "cell_type": "code",
   "execution_count": 25,
   "metadata": {},
   "outputs": [],
   "source": [
    "def spyGame(nums):\n",
    "    code = [0,0,7,'x']\n",
    "    for num in nums:\n",
    "        if num == code[0]:\n",
    "            code.pop(0)\n",
    "    return len(code) == 1"
   ]
  },
  {
   "cell_type": "code",
   "execution_count": 26,
   "metadata": {},
   "outputs": [
    {
     "data": {
      "text/plain": [
       "True"
      ]
     },
     "execution_count": 26,
     "metadata": {},
     "output_type": "execute_result"
    }
   ],
   "source": [
    "spyGame([1,4,0,0,4,7,2])"
   ]
  },
  {
   "cell_type": "code",
   "execution_count": 31,
   "metadata": {},
   "outputs": [],
   "source": [
    "def spyGame1(nums):\n",
    "    code = [0,0,7,'x']\n",
    "    for n in nums:\n",
    "        if n == code[0]:\n",
    "            code.pop(0)\n",
    "    return len(code) == 1"
   ]
  },
  {
   "cell_type": "code",
   "execution_count": 33,
   "metadata": {},
   "outputs": [
    {
     "data": {
      "text/plain": [
       "True"
      ]
     },
     "execution_count": 33,
     "metadata": {},
     "output_type": "execute_result"
    }
   ],
   "source": [
    "spyGame1([1,0,0,7,2,0])"
   ]
  },
  {
   "cell_type": "code",
   "execution_count": 54,
   "metadata": {},
   "outputs": [],
   "source": [
    "import math\n",
    "def countPrime(num):\n",
    "    List = []\n",
    "    count = 0\n",
    "    \n",
    "    for n in range(2,num+1):\n",
    "        prime = True\n",
    "        if n % 2 == 0 and n > 2:\n",
    "            prime = False\n",
    "            continue\n",
    "        for i in range(3,int(math.sqrt(n))+1,2):\n",
    "            if n % i == 0:\n",
    "                prime = False\n",
    "                continue\n",
    "        if prime:\n",
    "            List.append(n)\n",
    "            count += 1\n",
    "            \n",
    "    print(f'{count}\\n{List}')"
   ]
  },
  {
   "cell_type": "code",
   "execution_count": 55,
   "metadata": {},
   "outputs": [
    {
     "name": "stdout",
     "output_type": "stream",
     "text": [
      "25\n",
      "[2, 3, 5, 7, 11, 13, 17, 19, 23, 29, 31, 37, 41, 43, 47, 53, 59, 61, 67, 71, 73, 79, 83, 89, 97]\n"
     ]
    }
   ],
   "source": [
    "countPrime(100)"
   ]
  },
  {
   "cell_type": "code",
   "execution_count": null,
   "metadata": {},
   "outputs": [],
   "source": []
  }
 ],
 "metadata": {
  "kernelspec": {
   "display_name": "Python 3",
   "language": "python",
   "name": "python3"
  },
  "language_info": {
   "codemirror_mode": {
    "name": "ipython",
    "version": 3
   },
   "file_extension": ".py",
   "mimetype": "text/x-python",
   "name": "python",
   "nbconvert_exporter": "python",
   "pygments_lexer": "ipython3",
   "version": "3.7.3"
  }
 },
 "nbformat": 4,
 "nbformat_minor": 2
}
